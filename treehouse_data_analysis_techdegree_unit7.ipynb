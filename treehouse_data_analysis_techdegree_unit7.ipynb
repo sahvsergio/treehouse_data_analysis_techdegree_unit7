{
 "cells": [
  {
   "cell_type": "code",
   "execution_count": 2,
   "id": "3c05bfe5-01d5-45d6-9030-bf23db2098c0",
   "metadata": {},
   "outputs": [],
   "source": [
    "import os\n",
    "import pandas as pd\n",
    "import matplotlib.pyplot as plt\n",
    "import seaborn as sns"
   ]
  },
  {
   "cell_type": "markdown",
   "id": "04d76194-be97-4d8c-abaa-7fa2a912d634",
   "metadata": {},
   "source": [
    "## Understanding what the columns mean\n",
    "Column names:\n",
    "\n",
    "    ID = unique id number\n",
    "    title = song’s title\n",
    "    artist = song’s artist\n",
    "    top genre = the genre of the track\n",
    "    year = song’s year in the billboard\n",
    "    bpm = beats per minute (tempo)\n",
    "    nrgy = energy, the higher the value the more energetic the song\n",
    "    dnce = danceability, the higher the value the easier it is to dance to\n",
    "    db = loudness, the higher the value the louder the song\n",
    "    live = the higher the value the more likely the song is a live recording\n",
    "    val = valence, the higher the value the more positive the mood\n",
    "    dur = duration of the song\n",
    "    acous = acousticness, the higher the value the more acoustic the song is\n",
    "    spch = speechiness, the higher the value the more spoken word the song contains\n",
    "    pop = popularity, the higher the value the more popular the song is\n"
   ]
  },
  {
   "cell_type": "markdown",
   "id": "c87956bf-05df-45df-8399-f7f85dc88fb3",
   "metadata": {},
   "source": [
    "## reading each of the csv files"
   ]
  },
  {
   "cell_type": "code",
   "execution_count": 3,
   "id": "3d0304f7-4d4e-4992-bd59-4aac145cfdc2",
   "metadata": {
    "jupyter": {
     "source_hidden": true
    }
   },
   "outputs": [],
   "source": [
    "df_2010= pd.read_csv('2010.csv')\n",
    "df_2011=pd.read_csv('2011.csv')\n",
    "df_2012=pd.read_csv('2012.csv')\n",
    "df_2013= pd.read_csv('2013.csv')\n",
    "df_2014= pd.read_csv('2014.csv')\n",
    "df_2015=pd.read_csv('2015.csv')\n",
    "df_2016= pd.read_csv('2016.csv')\n",
    "df_2017= pd.read_csv('2017.csv')\n",
    "df_2018= pd.read_csv('2018.csv')\n",
    "df_2019= pd.read_csv('2019.csv')\n"
   ]
  },
  {
   "cell_type": "code",
   "execution_count": 4,
   "id": "602da713-2e04-4963-8e0a-67b5b3650441",
   "metadata": {
    "jupyter": {
     "source_hidden": true
    }
   },
   "outputs": [
    {
     "data": {
      "text/plain": [
       "(51, 15)"
      ]
     },
     "execution_count": 4,
     "metadata": {},
     "output_type": "execute_result"
    }
   ],
   "source": [
    "df_2010.shape\n",
    "\n"
   ]
  },
  {
   "cell_type": "code",
   "execution_count": 5,
   "id": "3f037219-b2f0-420c-b13f-68ca920bc3b5",
   "metadata": {
    "jupyter": {
     "source_hidden": true
    }
   },
   "outputs": [
    {
     "data": {
      "text/plain": [
       "(53, 15)"
      ]
     },
     "execution_count": 5,
     "metadata": {},
     "output_type": "execute_result"
    }
   ],
   "source": [
    "df_2011.shape"
   ]
  },
  {
   "cell_type": "code",
   "execution_count": 6,
   "id": "a531d2fa-fd13-42a9-acec-1d2647e3f256",
   "metadata": {
    "jupyter": {
     "source_hidden": true
    }
   },
   "outputs": [
    {
     "data": {
      "text/plain": [
       "(35, 15)"
      ]
     },
     "execution_count": 6,
     "metadata": {},
     "output_type": "execute_result"
    }
   ],
   "source": [
    "df_2012.shape"
   ]
  },
  {
   "cell_type": "code",
   "execution_count": 7,
   "id": "70aebe89-0491-4456-ba0a-d664428089b5",
   "metadata": {
    "jupyter": {
     "source_hidden": true
    }
   },
   "outputs": [
    {
     "data": {
      "text/plain": [
       "(71, 15)"
      ]
     },
     "execution_count": 7,
     "metadata": {},
     "output_type": "execute_result"
    }
   ],
   "source": [
    "df_2013.shape"
   ]
  },
  {
   "cell_type": "code",
   "execution_count": 8,
   "id": "cdb7909b-f5cf-4275-bc34-c34f560495da",
   "metadata": {
    "jupyter": {
     "source_hidden": true
    }
   },
   "outputs": [
    {
     "data": {
      "text/plain": [
       "(58, 15)"
      ]
     },
     "execution_count": 8,
     "metadata": {},
     "output_type": "execute_result"
    }
   ],
   "source": [
    "df_2014.shape"
   ]
  },
  {
   "cell_type": "code",
   "execution_count": 9,
   "id": "fe0472b0-0275-4f54-878c-a7b3eba12d9f",
   "metadata": {
    "jupyter": {
     "source_hidden": true
    }
   },
   "outputs": [
    {
     "data": {
      "text/plain": [
       "(95, 15)"
      ]
     },
     "execution_count": 9,
     "metadata": {},
     "output_type": "execute_result"
    }
   ],
   "source": [
    "df_2015.shape"
   ]
  },
  {
   "cell_type": "code",
   "execution_count": 10,
   "id": "2468d7ba-185c-43f8-8bc8-90e017f9a0f5",
   "metadata": {
    "jupyter": {
     "source_hidden": true
    }
   },
   "outputs": [
    {
     "data": {
      "text/plain": [
       "(80, 15)"
      ]
     },
     "execution_count": 10,
     "metadata": {},
     "output_type": "execute_result"
    }
   ],
   "source": [
    "df_2016.shape"
   ]
  },
  {
   "cell_type": "code",
   "execution_count": 11,
   "id": "7eba5919-633c-45e6-8dfb-f40adcbf0095",
   "metadata": {
    "jupyter": {
     "source_hidden": true
    }
   },
   "outputs": [
    {
     "data": {
      "text/plain": [
       "(65, 15)"
      ]
     },
     "execution_count": 11,
     "metadata": {},
     "output_type": "execute_result"
    }
   ],
   "source": [
    "df_2017.shape"
   ]
  },
  {
   "cell_type": "code",
   "execution_count": 12,
   "id": "63fa279b-24fe-43a5-9950-4f317076b9f1",
   "metadata": {
    "jupyter": {
     "source_hidden": true
    }
   },
   "outputs": [
    {
     "data": {
      "text/plain": [
       "(64, 15)"
      ]
     },
     "execution_count": 12,
     "metadata": {},
     "output_type": "execute_result"
    }
   ],
   "source": [
    "df_2018.shape"
   ]
  },
  {
   "cell_type": "code",
   "execution_count": 13,
   "id": "c3f8e970-f37a-452c-b483-349362039088",
   "metadata": {
    "jupyter": {
     "source_hidden": true
    }
   },
   "outputs": [
    {
     "data": {
      "text/plain": [
       "(31, 15)"
      ]
     },
     "execution_count": 13,
     "metadata": {},
     "output_type": "execute_result"
    }
   ],
   "source": [
    "df_2019.shape"
   ]
  },
  {
   "cell_type": "code",
   "execution_count": 14,
   "id": "5fc144e3-5eee-4f04-9577-77e77fb24e76",
   "metadata": {
    "jupyter": {
     "source_hidden": true
    }
   },
   "outputs": [],
   "source": [
    "# combine all datasets\n",
    "all_top_songs=pd.concat([df_2010, df_2011, df_2012, df_2013,df_2014, df_2015, df_2016, df_2017, df_2018, df_2019])"
   ]
  },
  {
   "cell_type": "code",
   "execution_count": 15,
   "id": "e7600bf1-9f42-4058-b8c5-a01bd03a31da",
   "metadata": {
    "jupyter": {
     "source_hidden": true
    }
   },
   "outputs": [
    {
     "data": {
      "text/plain": [
       "(603, 15)"
      ]
     },
     "execution_count": 15,
     "metadata": {},
     "output_type": "execute_result"
    }
   ],
   "source": [
    "all_top_songs.shape\n",
    "\n"
   ]
  },
  {
   "cell_type": "code",
   "execution_count": 16,
   "id": "0f1bfcdf-c11c-4f01-a7d5-a4d407ebdaa2",
   "metadata": {
    "jupyter": {
     "source_hidden": true
    }
   },
   "outputs": [],
   "source": [
    "# cleaning the datasets\n",
    " ## Clean the dataset to make sure the following columns are either integer or floats and not objects:\n",
    "\"\"\"\n",
    "    id\n",
    "    year\n",
    "    bpm\n",
    "    nrgy\n",
    "    dnce\n",
    "    db\n",
    "    live\n",
    "    val\n",
    "    dur\n",
    "    acous\n",
    "    spch\n",
    "    pop\n",
    "\n",
    "\"\"\"\n",
    "pd.set_option('display.max_columns',15)\n",
    "all_top_songs\n",
    "\n",
    "\n",
    "# saving to a csv\n",
    "all_top_songs.to_csv('top_spotify_songs.csv', index=False)"
   ]
  },
  {
   "cell_type": "code",
   "execution_count": 17,
   "id": "2c8d2f42-4a17-4a12-a497-937de791947b",
   "metadata": {
    "jupyter": {
     "source_hidden": true
    }
   },
   "outputs": [
    {
     "data": {
      "text/plain": [
       "Unnamed: 0     int64\n",
       "title         object\n",
       "artist        object\n",
       "top genre     object\n",
       "year           int64\n",
       "bpm            int64\n",
       "nrgy           int64\n",
       "dnce           int64\n",
       "dB             int64\n",
       "live           int64\n",
       "val            int64\n",
       "dur            int64\n",
       "acous          int64\n",
       "spch           int64\n",
       "pop            int64\n",
       "dtype: object"
      ]
     },
     "execution_count": 17,
     "metadata": {},
     "output_type": "execute_result"
    }
   ],
   "source": [
    "#checking current data types\n",
    "all_top_songs.dtypes"
   ]
  },
  {
   "cell_type": "code",
   "execution_count": 18,
   "id": "961bcd38-718c-47fd-9d6c-6b972e26137b",
   "metadata": {
    "jupyter": {
     "source_hidden": true
    }
   },
   "outputs": [
    {
     "data": {
      "text/plain": [
       "Unnamed: 0     int64\n",
       "title         object\n",
       "artist        object\n",
       "top genre     object\n",
       "year           int64\n",
       "bpm            int64\n",
       "nrgy           int64\n",
       "dnce           int64\n",
       "dB             int64\n",
       "live           int64\n",
       "val            int64\n",
       "dur            int64\n",
       "acous          int64\n",
       "spch           int64\n",
       "pop            int64\n",
       "dtype: object"
      ]
     },
     "execution_count": 18,
     "metadata": {},
     "output_type": "execute_result"
    }
   ],
   "source": [
    "\n",
    "\n",
    "\n",
    "all_top_songs.infer_objects().dtypes\n"
   ]
  },
  {
   "cell_type": "code",
   "execution_count": 19,
   "id": "dcf56b67-5171-498b-a461-2b153affc1ff",
   "metadata": {
    "jupyter": {
     "source_hidden": true
    }
   },
   "outputs": [
    {
     "data": {
      "text/plain": [
       "'\\n id\\n    year\\n    bpm\\n    nrgy\\n    dnce\\n    db\\n    live\\n    val\\n    dur\\n    acous\\n    spch\\n    pop\\n\\n    '"
      ]
     },
     "execution_count": 19,
     "metadata": {},
     "output_type": "execute_result"
    }
   ],
   "source": [
    "# transforming this columsn into either integers or floats\n",
    "\n",
    "\n",
    "\"\"\"\n",
    " id\n",
    "    year\n",
    "    bpm\n",
    "    nrgy\n",
    "    dnce\n",
    "    db\n",
    "    live\n",
    "    val\n",
    "    dur\n",
    "    acous\n",
    "    spch\n",
    "    pop\n",
    "\n",
    "    \"\"\""
   ]
  },
  {
   "cell_type": "code",
   "execution_count": 20,
   "id": "7722539e-97d9-460a-9463-c1b6f8ec694b",
   "metadata": {
    "jupyter": {
     "source_hidden": true
    }
   },
   "outputs": [
    {
     "data": {
      "text/plain": [
       "Unnamed: 0     int64\n",
       "title         object\n",
       "artist        object\n",
       "top genre     object\n",
       "year           int64\n",
       "bpm            int64\n",
       "nrgy           int64\n",
       "dnce           int64\n",
       "dB             int64\n",
       "live           int64\n",
       "val            int64\n",
       "dur            int64\n",
       "acous          int64\n",
       "spch           int64\n",
       "pop            int64\n",
       "dtype: object"
      ]
     },
     "execution_count": 20,
     "metadata": {},
     "output_type": "execute_result"
    }
   ],
   "source": [
    "all_top_songs.dtypes"
   ]
  },
  {
   "cell_type": "markdown",
   "id": "327f03e3-745c-4136-8adc-5a5d9845760e",
   "metadata": {},
   "source": [
    "Questions"
   ]
  },
  {
   "cell_type": "markdown",
   "id": "376b2cc8-f040-4265-aeff-0bf63b5c3643",
   "metadata": {},
   "source": [
    "1. What is the most popular song in the dataset?   \n",
    "   "
   ]
  },
  {
   "cell_type": "code",
   "execution_count": 21,
   "id": "5415824b-be76-4d78-9822-8e29cda01ace",
   "metadata": {},
   "outputs": [
    {
     "name": "stdout",
     "output_type": "stream",
     "text": [
      "the most popular song in the database is Memories  by Maroon 5 with a popularity value of 99 \n"
     ]
    }
   ],
   "source": [
    "# select the  title and pop  columns\n",
    "popularity=all_top_songs[['title','pop', 'artist']]\n",
    "#find the maximum value for the  pop column\n",
    "max_pop=all_top_songs['pop'].max()\n",
    "\n",
    "top_song=popularity.loc[(popularity['pop']==max_pop)]\n",
    "for element in top_song.iterrows():\n",
    "    title=element[1]['title']\n",
    "    popular= element[1]['pop']\n",
    "    artist=element[1]['artist']\n",
    "    \n",
    "print(f\"the most popular song in the database is {title}  by {artist} with a popularity value of {popular} \")\n",
    "\n",
    "\n",
    "\n"
   ]
  },
  {
   "cell_type": "markdown",
   "id": "f2aa1c34-0d38-4032-bc37-676f1bec124c",
   "metadata": {},
   "source": [
    "2. What artist has the most songs in the dataset?"
   ]
  },
  {
   "cell_type": "code",
   "execution_count": 22,
   "id": "2335c48f-b422-4495-86b3-f2582703d182",
   "metadata": {},
   "outputs": [
    {
     "name": "stdout",
     "output_type": "stream",
     "text": [
      "The artist who has the most songs in the dataset is Katy Perry with 17 songs in the dataset\n"
     ]
    }
   ],
   "source": [
    "\n",
    "#select the artist and title columns from the database\n",
    "artist_and_song=all_top_songs[['artist','title']]\n",
    "\n",
    "#let's group them by artists\n",
    "grouped_artists=artist_and_song.groupby('artist')\n",
    "#let's count\n",
    "count_all_artists=grouped_artists.count()\n",
    "sorted_artists=count_all_artists.sort_values('title', ascending=False)\n",
    "max_artists=sorted_artists.max()\n",
    "top_artist=sorted_artists.loc[sorted_artists.title==max_artists.title]\n",
    "for element in top_artist.iterrows():\n",
    "    top_name=element[0]\n",
    "    top_total=element[1]['title']\n",
    "\n",
    "\n",
    "print(f'The artist who has the most songs in the dataset is {top_name} with {top_total} songs in the dataset')\n",
    "#top_artist"
   ]
  },
  {
   "cell_type": "markdown",
   "id": "d26b16de-7775-4b9e-9d04-ec5a852fb29b",
   "metadata": {},
   "source": [
    "3. What is the most popular genre of music in the dataset?"
   ]
  },
  {
   "cell_type": "code",
   "execution_count": 34,
   "id": "0a3b44b1-9536-40eb-a9d8-e61898ccaa29",
   "metadata": {},
   "outputs": [
    {
     "name": "stdout",
     "output_type": "stream",
     "text": [
      "The most popular genre of music in the dataset is escape room with an average 90.0 popularity\n"
     ]
    }
   ],
   "source": [
    "all_genres=all_top_songs[['top genre', 'pop']]\n",
    "grouped_genres=all_genres.groupby('top genre')\n",
    "average_pop=grouped_genres.mean()\n",
    "\n",
    "sorted_average=average_pop.sort_values('pop', ascending=False)\n",
    "max_sorted_average=sorted_average['pop'].max()\n",
    "max_sorted_average\n",
    "top_genre= sorted_average.loc[(sorted_average['pop']==max_sorted_average)]\n",
    "for element in top_genre.iterrows():\n",
    "    most_pop_genre=element[0]\n",
    "    top_genre_pop=element[1].iloc[0]\n",
    "\n",
    "print(f'The most popular genre of music in the dataset is {most_pop_genre} with an average {top_genre_pop} popularity') \n",
    "\n",
    "\n",
    "    \n",
    "\n",
    "\n",
    "\n",
    "\n"
   ]
  },
  {
   "cell_type": "markdown",
   "id": "43521e52-5936-43a4-9cbe-b2bf05803e74",
   "metadata": {},
   "source": [
    "4. Are there any songs in the dataset more than once?\n",
    "   "
   ]
  },
  {
   "cell_type": "code",
   "execution_count": 24,
   "id": "79b326f9-a1f7-407e-95be-1f796479db77",
   "metadata": {},
   "outputs": [
    {
     "name": "stdout",
     "output_type": "stream",
     "text": [
      "Yes, there are songs in the dataset mroe than once. which are the following:\n",
      "\n",
      "Just the Way You Are\n",
      "\n",
      "Marry You\n",
      "\n",
      "Written in the Stars (feat. Eric Turner)\n",
      "\n",
      "Castle Walls (feat. Christina Aguilera)\n",
      "\n",
      "We Are Never Ever Getting Back Together\n",
      "\n",
      "A Little Party Never Killed Nobody (All We Got)\n",
      "\n",
      "Sugar\n",
      "\n",
      "The Hills\n",
      "\n",
      "Love Yourself\n",
      "\n",
      "Stitches\n",
      "\n",
      "Company\n",
      "\n",
      "Runnin' (Lose It All)\n",
      "\n",
      "Here\n",
      "\n",
      "All I Ask\n",
      "\n",
      "First Time\n",
      "\n",
      "Kissing Strangers\n"
     ]
    }
   ],
   "source": [
    "dupes=all_top_songs[all_top_songs.duplicated(('title', 'artist'))]\n",
    "titles=dupes['title']\n",
    "print('Yes, there are songs in the dataset mroe than once. which are the following:')\n",
    "for element in titles:\n",
    "    print()\n",
    "    \n",
    "    print(element)\n",
    "\n",
    "\n"
   ]
  },
  {
   "cell_type": "markdown",
   "id": "a7979095-1e41-418a-9ec4-b502b9544120",
   "metadata": {},
   "source": [
    "5. Is there a relationship between popularity and danceability?"
   ]
  },
  {
   "cell_type": "code",
   "execution_count": 25,
   "id": "17c93c8b-dc17-46e9-a22e-f8fef08d7070",
   "metadata": {},
   "outputs": [
    {
     "data": {
      "image/png": "[encoded data removed]",
      "text/plain": [
       "<Figure size 640x480 with 1 Axes>"
      ]
     },
     "metadata": {},
     "output_type": "display_data"
    }
   ],
   "source": [
    "popu=all_top_songs['pop']\n",
    "dance=all_top_songs['dnce']\n",
    "plt.scatter(popu, dance)\n",
    "\n",
    "\n",
    "\n",
    "plt.show()\n"
   ]
  },
  {
   "cell_type": "markdown",
   "id": "8c72f35f-0d43-4b19-8002-d2e3e9dab645",
   "metadata": {},
   "source": [
    "6. Does having a higher bpm lead to having a higher energy score?"
   ]
  },
  {
   "cell_type": "code",
   "execution_count": null,
   "id": "6fc209ae-c037-46f8-baa6-cffee712c1ba",
   "metadata": {},
   "outputs": [],
   "source": []
  },
  {
   "cell_type": "markdown",
   "id": "93ea7cb8-ce58-46d6-83ef-042fd5344878",
   "metadata": {},
   "source": [
    "7. Which genre has the highest energy score?"
   ]
  },
  {
   "cell_type": "code",
   "execution_count": null,
   "id": "2b7e1c93-0753-424c-9017-4f8c30cba8a5",
   "metadata": {
    "collapsed": true,
    "jupyter": {
     "outputs_hidden": true,
     "source_hidden": true
    }
   },
   "outputs": [],
   "source": [
    "\n",
    "\n"
   ]
  },
  {
   "cell_type": "code",
   "execution_count": null,
   "id": "cb6317c5-ccd7-4900-bd06-46dadc7045b5",
   "metadata": {
    "collapsed": true,
    "jupyter": {
     "outputs_hidden": true,
     "source_hidden": true
    }
   },
   "outputs": [],
   "source": []
  },
  {
   "cell_type": "code",
   "execution_count": null,
   "id": "9ce3a11f-6a87-4722-b146-a44b56af3308",
   "metadata": {},
   "outputs": [],
   "source": []
  }
 ],
 "metadata": {
  "kernelspec": {
   "display_name": "Python 3 (ipykernel)",
   "language": "python",
   "name": "python3"
  },
  "language_info": {
   "codemirror_mode": {
    "name": "ipython",
    "version": 3
   },
   "file_extension": ".py",
   "mimetype": "text/x-python",
   "name": "python",
   "nbconvert_exporter": "python",
   "pygments_lexer": "ipython3",
   "version": "3.12.7"
  }
 },
 "nbformat": 4,
 "nbformat_minor": 5
}
