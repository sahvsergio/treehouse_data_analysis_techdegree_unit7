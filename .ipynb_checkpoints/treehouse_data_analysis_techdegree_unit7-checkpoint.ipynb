{
 "cells": [
  {
   "cell_type": "code",
   "execution_count": 2,
   "id": "3c05bfe5-01d5-45d6-9030-bf23db2098c0",
   "metadata": {},
   "outputs": [],
   "source": [
    "import os\n",
    "import pandas as pd\n",
    "import matplotlib.pyplot as plt"
   ]
  },
  {
   "cell_type": "markdown",
   "id": "04d76194-be97-4d8c-abaa-7fa2a912d634",
   "metadata": {},
   "source": [
    "## Understanding what the columns mean\n",
    "Column names:\n",
    "\n",
    "    ID = unique id number\n",
    "    title = song’s title\n",
    "    artist = song’s artist\n",
    "    top genre = the genre of the track\n",
    "    year = song’s year in the billboard\n",
    "    bpm = beats per minute (tempo)\n",
    "    nrgy = energy, the higher the value the more energetic the song\n",
    "    dnce = danceability, the higher the value the easier it is to dance to\n",
    "    db = loudness, the higher the value the louder the song\n",
    "    live = the higher the value the more likely the song is a live recording\n",
    "    val = valence, the higher the value the more positive the mood\n",
    "    dur = duration of the song\n",
    "    acous = acousticness, the higher the value the more acoustic the song is\n",
    "    spch = speechiness, the higher the value the more spoken word the song contains\n",
    "    pop = popularity, the higher the value the more popular the song is\n"
   ]
  },
  {
   "cell_type": "markdown",
   "id": "c87956bf-05df-45df-8399-f7f85dc88fb3",
   "metadata": {},
   "source": [
    "## reading each of the csv files"
   ]
  },
  {
   "cell_type": "code",
   "execution_count": 3,
   "id": "3d0304f7-4d4e-4992-bd59-4aac145cfdc2",
   "metadata": {
    "jupyter": {
     "source_hidden": true
    }
   },
   "outputs": [],
   "source": [
    "df_2010= pd.read_csv('2010.csv')\n",
    "df_2011=pd.read_csv('2011.csv')\n",
    "df_2012=pd.read_csv('2012.csv')\n",
    "df_2013= pd.read_csv('2013.csv')\n",
    "df_2014= pd.read_csv('2014.csv')\n",
    "df_2015=pd.read_csv('2015.csv')\n",
    "df_2016= pd.read_csv('2016.csv')\n",
    "df_2017= pd.read_csv('2017.csv')\n",
    "df_2018= pd.read_csv('2018.csv')\n",
    "df_2019= pd.read_csv('2019.csv')\n"
   ]
  },
  {
   "cell_type": "code",
   "execution_count": 4,
   "id": "602da713-2e04-4963-8e0a-67b5b3650441",
   "metadata": {
    "jupyter": {
     "source_hidden": true
    }
   },
   "outputs": [
    {
     "data": {
      "text/plain": [
       "(51, 15)"
      ]
     },
     "execution_count": 4,
     "metadata": {},
     "output_type": "execute_result"
    }
   ],
   "source": [
    "df_2010.shape\n",
    "\n"
   ]
  },
  {
   "cell_type": "code",
   "execution_count": 5,
   "id": "3f037219-b2f0-420c-b13f-68ca920bc3b5",
   "metadata": {
    "jupyter": {
     "source_hidden": true
    }
   },
   "outputs": [
    {
     "data": {
      "text/plain": [
       "(53, 15)"
      ]
     },
     "execution_count": 5,
     "metadata": {},
     "output_type": "execute_result"
    }
   ],
   "source": [
    "df_2011.shape"
   ]
  },
  {
   "cell_type": "code",
   "execution_count": 6,
   "id": "a531d2fa-fd13-42a9-acec-1d2647e3f256",
   "metadata": {
    "jupyter": {
     "source_hidden": true
    }
   },
   "outputs": [
    {
     "data": {
      "text/plain": [
       "(35, 15)"
      ]
     },
     "execution_count": 6,
     "metadata": {},
     "output_type": "execute_result"
    }
   ],
   "source": [
    "df_2012.shape"
   ]
  },
  {
   "cell_type": "code",
   "execution_count": 7,
   "id": "70aebe89-0491-4456-ba0a-d664428089b5",
   "metadata": {
    "jupyter": {
     "source_hidden": true
    }
   },
   "outputs": [
    {
     "data": {
      "text/plain": [
       "(71, 15)"
      ]
     },
     "execution_count": 7,
     "metadata": {},
     "output_type": "execute_result"
    }
   ],
   "source": [
    "df_2013.shape"
   ]
  },
  {
   "cell_type": "code",
   "execution_count": 8,
   "id": "cdb7909b-f5cf-4275-bc34-c34f560495da",
   "metadata": {
    "jupyter": {
     "source_hidden": true
    }
   },
   "outputs": [
    {
     "data": {
      "text/plain": [
       "(58, 15)"
      ]
     },
     "execution_count": 8,
     "metadata": {},
     "output_type": "execute_result"
    }
   ],
   "source": [
    "df_2014.shape"
   ]
  },
  {
   "cell_type": "code",
   "execution_count": 9,
   "id": "fe0472b0-0275-4f54-878c-a7b3eba12d9f",
   "metadata": {
    "jupyter": {
     "source_hidden": true
    }
   },
   "outputs": [
    {
     "data": {
      "text/plain": [
       "(95, 15)"
      ]
     },
     "execution_count": 9,
     "metadata": {},
     "output_type": "execute_result"
    }
   ],
   "source": [
    "df_2015.shape"
   ]
  },
  {
   "cell_type": "code",
   "execution_count": 10,
   "id": "2468d7ba-185c-43f8-8bc8-90e017f9a0f5",
   "metadata": {
    "jupyter": {
     "source_hidden": true
    }
   },
   "outputs": [
    {
     "data": {
      "text/plain": [
       "(80, 15)"
      ]
     },
     "execution_count": 10,
     "metadata": {},
     "output_type": "execute_result"
    }
   ],
   "source": [
    "df_2016.shape"
   ]
  },
  {
   "cell_type": "code",
   "execution_count": 11,
   "id": "7eba5919-633c-45e6-8dfb-f40adcbf0095",
   "metadata": {
    "jupyter": {
     "source_hidden": true
    }
   },
   "outputs": [
    {
     "data": {
      "text/plain": [
       "(65, 15)"
      ]
     },
     "execution_count": 11,
     "metadata": {},
     "output_type": "execute_result"
    }
   ],
   "source": [
    "df_2017.shape"
   ]
  },
  {
   "cell_type": "code",
   "execution_count": 12,
   "id": "63fa279b-24fe-43a5-9950-4f317076b9f1",
   "metadata": {
    "jupyter": {
     "source_hidden": true
    }
   },
   "outputs": [
    {
     "data": {
      "text/plain": [
       "(64, 15)"
      ]
     },
     "execution_count": 12,
     "metadata": {},
     "output_type": "execute_result"
    }
   ],
   "source": [
    "df_2018.shape"
   ]
  },
  {
   "cell_type": "code",
   "execution_count": 13,
   "id": "c3f8e970-f37a-452c-b483-349362039088",
   "metadata": {
    "jupyter": {
     "source_hidden": true
    }
   },
   "outputs": [
    {
     "data": {
      "text/plain": [
       "(31, 15)"
      ]
     },
     "execution_count": 13,
     "metadata": {},
     "output_type": "execute_result"
    }
   ],
   "source": [
    "df_2019.shape"
   ]
  },
  {
   "cell_type": "code",
   "execution_count": 14,
   "id": "5fc144e3-5eee-4f04-9577-77e77fb24e76",
   "metadata": {
    "jupyter": {
     "source_hidden": true
    }
   },
   "outputs": [],
   "source": [
    "# combine all datasets\n",
    "all_top_songs=pd.concat([df_2010, df_2011, df_2012, df_2013,df_2014, df_2015, df_2016, df_2017, df_2018, df_2019])"
   ]
  },
  {
   "cell_type": "code",
   "execution_count": 15,
   "id": "e7600bf1-9f42-4058-b8c5-a01bd03a31da",
   "metadata": {
    "jupyter": {
     "source_hidden": true
    }
   },
   "outputs": [
    {
     "data": {
      "text/plain": [
       "(603, 15)"
      ]
     },
     "execution_count": 15,
     "metadata": {},
     "output_type": "execute_result"
    }
   ],
   "source": [
    "all_top_songs.shape\n",
    "\n"
   ]
  },
  {
   "cell_type": "code",
   "execution_count": 16,
   "id": "0f1bfcdf-c11c-4f01-a7d5-a4d407ebdaa2",
   "metadata": {
    "jupyter": {
     "source_hidden": true
    }
   },
   "outputs": [],
   "source": [
    "# cleaning the datasets\n",
    " ## Clean the dataset to make sure the following columns are either integer or floats and not objects:\n",
    "\"\"\"\n",
    "    id\n",
    "    year\n",
    "    bpm\n",
    "    nrgy\n",
    "    dnce\n",
    "    db\n",
    "    live\n",
    "    val\n",
    "    dur\n",
    "    acous\n",
    "    spch\n",
    "    pop\n",
    "\n",
    "\"\"\"\n",
    "pd.set_option('display.max_columns',15)\n",
    "all_top_songs\n",
    "\n",
    "\n",
    "# saving to a csv\n",
    "all_top_songs.to_csv('top_spotify_songs.csv', index=False)"
   ]
  },
  {
   "cell_type": "code",
   "execution_count": 17,
   "id": "2c8d2f42-4a17-4a12-a497-937de791947b",
   "metadata": {
    "jupyter": {
     "source_hidden": true
    }
   },
   "outputs": [
    {
     "data": {
      "text/plain": [
       "Unnamed: 0     int64\n",
       "title         object\n",
       "artist        object\n",
       "top genre     object\n",
       "year           int64\n",
       "bpm            int64\n",
       "nrgy           int64\n",
       "dnce           int64\n",
       "dB             int64\n",
       "live           int64\n",
       "val            int64\n",
       "dur            int64\n",
       "acous          int64\n",
       "spch           int64\n",
       "pop            int64\n",
       "dtype: object"
      ]
     },
     "execution_count": 17,
     "metadata": {},
     "output_type": "execute_result"
    }
   ],
   "source": [
    "#checking current data types\n",
    "all_top_songs.dtypes"
   ]
  },
  {
   "cell_type": "code",
   "execution_count": 18,
   "id": "961bcd38-718c-47fd-9d6c-6b972e26137b",
   "metadata": {
    "jupyter": {
     "source_hidden": true
    }
   },
   "outputs": [
    {
     "data": {
      "text/plain": [
       "Unnamed: 0     int64\n",
       "title         object\n",
       "artist        object\n",
       "top genre     object\n",
       "year           int64\n",
       "bpm            int64\n",
       "nrgy           int64\n",
       "dnce           int64\n",
       "dB             int64\n",
       "live           int64\n",
       "val            int64\n",
       "dur            int64\n",
       "acous          int64\n",
       "spch           int64\n",
       "pop            int64\n",
       "dtype: object"
      ]
     },
     "execution_count": 18,
     "metadata": {},
     "output_type": "execute_result"
    }
   ],
   "source": [
    "\n",
    "\n",
    "\n",
    "all_top_songs.infer_objects().dtypes\n"
   ]
  },
  {
   "cell_type": "code",
   "execution_count": 19,
   "id": "dcf56b67-5171-498b-a461-2b153affc1ff",
   "metadata": {
    "jupyter": {
     "source_hidden": true
    }
   },
   "outputs": [
    {
     "data": {
      "text/plain": [
       "'\\n id\\n    year\\n    bpm\\n    nrgy\\n    dnce\\n    db\\n    live\\n    val\\n    dur\\n    acous\\n    spch\\n    pop\\n\\n    '"
      ]
     },
     "execution_count": 19,
     "metadata": {},
     "output_type": "execute_result"
    }
   ],
   "source": [
    "# transforming this columsn into either integers or floats\n",
    "\n",
    "\n",
    "\"\"\"\n",
    " id\n",
    "    year\n",
    "    bpm\n",
    "    nrgy\n",
    "    dnce\n",
    "    db\n",
    "    live\n",
    "    val\n",
    "    dur\n",
    "    acous\n",
    "    spch\n",
    "    pop\n",
    "\n",
    "    \"\"\""
   ]
  },
  {
   "cell_type": "code",
   "execution_count": 20,
   "id": "7722539e-97d9-460a-9463-c1b6f8ec694b",
   "metadata": {
    "jupyter": {
     "source_hidden": true
    }
   },
   "outputs": [
    {
     "data": {
      "text/plain": [
       "Unnamed: 0     int64\n",
       "title         object\n",
       "artist        object\n",
       "top genre     object\n",
       "year           int64\n",
       "bpm            int64\n",
       "nrgy           int64\n",
       "dnce           int64\n",
       "dB             int64\n",
       "live           int64\n",
       "val            int64\n",
       "dur            int64\n",
       "acous          int64\n",
       "spch           int64\n",
       "pop            int64\n",
       "dtype: object"
      ]
     },
     "execution_count": 20,
     "metadata": {},
     "output_type": "execute_result"
    }
   ],
   "source": [
    "all_top_songs.dtypes"
   ]
  },
  {
   "cell_type": "code",
   "execution_count": 21,
   "id": "0aabe712-6e02-40bb-863f-6108f1f2a7f2",
   "metadata": {},
   "outputs": [
    {
     "data": {
      "text/html": [
       "<div>\n",
       "<style scoped>\n",
       "    .dataframe tbody tr th:only-of-type {\n",
       "        vertical-align: middle;\n",
       "    }\n",
       "\n",
       "    .dataframe tbody tr th {\n",
       "        vertical-align: top;\n",
       "    }\n",
       "\n",
       "    .dataframe thead th {\n",
       "        text-align: right;\n",
       "    }\n",
       "</style>\n",
       "<table border=\"1\" class=\"dataframe\">\n",
       "  <thead>\n",
       "    <tr style=\"text-align: right;\">\n",
       "      <th></th>\n",
       "      <th>Unnamed: 0</th>\n",
       "      <th>title</th>\n",
       "      <th>artist</th>\n",
       "      <th>top genre</th>\n",
       "      <th>year</th>\n",
       "      <th>bpm</th>\n",
       "      <th>nrgy</th>\n",
       "      <th>dnce</th>\n",
       "      <th>dB</th>\n",
       "      <th>live</th>\n",
       "      <th>val</th>\n",
       "      <th>dur</th>\n",
       "      <th>acous</th>\n",
       "      <th>spch</th>\n",
       "      <th>pop</th>\n",
       "    </tr>\n",
       "  </thead>\n",
       "  <tbody>\n",
       "    <tr>\n",
       "      <th>0</th>\n",
       "      <td>1</td>\n",
       "      <td>Hey, Soul Sister</td>\n",
       "      <td>Train</td>\n",
       "      <td>neo mellow</td>\n",
       "      <td>2010</td>\n",
       "      <td>97</td>\n",
       "      <td>89</td>\n",
       "      <td>67</td>\n",
       "      <td>-4</td>\n",
       "      <td>8</td>\n",
       "      <td>80</td>\n",
       "      <td>217</td>\n",
       "      <td>19</td>\n",
       "      <td>4</td>\n",
       "      <td>83</td>\n",
       "    </tr>\n",
       "    <tr>\n",
       "      <th>1</th>\n",
       "      <td>2</td>\n",
       "      <td>Love The Way You Lie</td>\n",
       "      <td>Eminem</td>\n",
       "      <td>detroit hip hop</td>\n",
       "      <td>2010</td>\n",
       "      <td>87</td>\n",
       "      <td>93</td>\n",
       "      <td>75</td>\n",
       "      <td>-5</td>\n",
       "      <td>52</td>\n",
       "      <td>64</td>\n",
       "      <td>263</td>\n",
       "      <td>24</td>\n",
       "      <td>23</td>\n",
       "      <td>82</td>\n",
       "    </tr>\n",
       "    <tr>\n",
       "      <th>2</th>\n",
       "      <td>3</td>\n",
       "      <td>TiK ToK</td>\n",
       "      <td>Kesha</td>\n",
       "      <td>dance pop</td>\n",
       "      <td>2010</td>\n",
       "      <td>120</td>\n",
       "      <td>84</td>\n",
       "      <td>76</td>\n",
       "      <td>-3</td>\n",
       "      <td>29</td>\n",
       "      <td>71</td>\n",
       "      <td>200</td>\n",
       "      <td>10</td>\n",
       "      <td>14</td>\n",
       "      <td>80</td>\n",
       "    </tr>\n",
       "    <tr>\n",
       "      <th>3</th>\n",
       "      <td>4</td>\n",
       "      <td>Bad Romance</td>\n",
       "      <td>Lady Gaga</td>\n",
       "      <td>dance pop</td>\n",
       "      <td>2010</td>\n",
       "      <td>119</td>\n",
       "      <td>92</td>\n",
       "      <td>70</td>\n",
       "      <td>-4</td>\n",
       "      <td>8</td>\n",
       "      <td>71</td>\n",
       "      <td>295</td>\n",
       "      <td>0</td>\n",
       "      <td>4</td>\n",
       "      <td>79</td>\n",
       "    </tr>\n",
       "    <tr>\n",
       "      <th>4</th>\n",
       "      <td>5</td>\n",
       "      <td>Just the Way You Are</td>\n",
       "      <td>Bruno Mars</td>\n",
       "      <td>pop</td>\n",
       "      <td>2010</td>\n",
       "      <td>109</td>\n",
       "      <td>84</td>\n",
       "      <td>64</td>\n",
       "      <td>-5</td>\n",
       "      <td>9</td>\n",
       "      <td>43</td>\n",
       "      <td>221</td>\n",
       "      <td>2</td>\n",
       "      <td>4</td>\n",
       "      <td>78</td>\n",
       "    </tr>\n",
       "    <tr>\n",
       "      <th>...</th>\n",
       "      <td>...</td>\n",
       "      <td>...</td>\n",
       "      <td>...</td>\n",
       "      <td>...</td>\n",
       "      <td>...</td>\n",
       "      <td>...</td>\n",
       "      <td>...</td>\n",
       "      <td>...</td>\n",
       "      <td>...</td>\n",
       "      <td>...</td>\n",
       "      <td>...</td>\n",
       "      <td>...</td>\n",
       "      <td>...</td>\n",
       "      <td>...</td>\n",
       "      <td>...</td>\n",
       "    </tr>\n",
       "    <tr>\n",
       "      <th>26</th>\n",
       "      <td>599</td>\n",
       "      <td>Find U Again (feat. Camila Cabello)</td>\n",
       "      <td>Mark Ronson</td>\n",
       "      <td>dance pop</td>\n",
       "      <td>2019</td>\n",
       "      <td>104</td>\n",
       "      <td>66</td>\n",
       "      <td>61</td>\n",
       "      <td>-7</td>\n",
       "      <td>20</td>\n",
       "      <td>16</td>\n",
       "      <td>176</td>\n",
       "      <td>1</td>\n",
       "      <td>3</td>\n",
       "      <td>75</td>\n",
       "    </tr>\n",
       "    <tr>\n",
       "      <th>27</th>\n",
       "      <td>600</td>\n",
       "      <td>Cross Me (feat. Chance the Rapper &amp; PnB Rock)</td>\n",
       "      <td>Ed Sheeran</td>\n",
       "      <td>pop</td>\n",
       "      <td>2019</td>\n",
       "      <td>95</td>\n",
       "      <td>79</td>\n",
       "      <td>75</td>\n",
       "      <td>-6</td>\n",
       "      <td>7</td>\n",
       "      <td>61</td>\n",
       "      <td>206</td>\n",
       "      <td>21</td>\n",
       "      <td>12</td>\n",
       "      <td>75</td>\n",
       "    </tr>\n",
       "    <tr>\n",
       "      <th>28</th>\n",
       "      <td>601</td>\n",
       "      <td>No Brainer (feat. Justin Bieber, Chance the Ra...</td>\n",
       "      <td>DJ Khaled</td>\n",
       "      <td>dance pop</td>\n",
       "      <td>2019</td>\n",
       "      <td>136</td>\n",
       "      <td>76</td>\n",
       "      <td>53</td>\n",
       "      <td>-5</td>\n",
       "      <td>9</td>\n",
       "      <td>65</td>\n",
       "      <td>260</td>\n",
       "      <td>7</td>\n",
       "      <td>34</td>\n",
       "      <td>70</td>\n",
       "    </tr>\n",
       "    <tr>\n",
       "      <th>29</th>\n",
       "      <td>602</td>\n",
       "      <td>Nothing Breaks Like a Heart (feat. Miley Cyrus)</td>\n",
       "      <td>Mark Ronson</td>\n",
       "      <td>dance pop</td>\n",
       "      <td>2019</td>\n",
       "      <td>114</td>\n",
       "      <td>79</td>\n",
       "      <td>60</td>\n",
       "      <td>-6</td>\n",
       "      <td>42</td>\n",
       "      <td>24</td>\n",
       "      <td>217</td>\n",
       "      <td>1</td>\n",
       "      <td>7</td>\n",
       "      <td>69</td>\n",
       "    </tr>\n",
       "    <tr>\n",
       "      <th>30</th>\n",
       "      <td>603</td>\n",
       "      <td>Kills You Slowly</td>\n",
       "      <td>The Chainsmokers</td>\n",
       "      <td>electropop</td>\n",
       "      <td>2019</td>\n",
       "      <td>150</td>\n",
       "      <td>44</td>\n",
       "      <td>70</td>\n",
       "      <td>-9</td>\n",
       "      <td>13</td>\n",
       "      <td>23</td>\n",
       "      <td>213</td>\n",
       "      <td>6</td>\n",
       "      <td>6</td>\n",
       "      <td>67</td>\n",
       "    </tr>\n",
       "  </tbody>\n",
       "</table>\n",
       "<p>603 rows × 15 columns</p>\n",
       "</div>"
      ],
      "text/plain": [
       "    Unnamed: 0                                              title  \\\n",
       "0            1                                   Hey, Soul Sister   \n",
       "1            2                               Love The Way You Lie   \n",
       "2            3                                            TiK ToK   \n",
       "3            4                                        Bad Romance   \n",
       "4            5                               Just the Way You Are   \n",
       "..         ...                                                ...   \n",
       "26         599                Find U Again (feat. Camila Cabello)   \n",
       "27         600      Cross Me (feat. Chance the Rapper & PnB Rock)   \n",
       "28         601  No Brainer (feat. Justin Bieber, Chance the Ra...   \n",
       "29         602    Nothing Breaks Like a Heart (feat. Miley Cyrus)   \n",
       "30         603                                   Kills You Slowly   \n",
       "\n",
       "              artist        top genre  year  bpm  nrgy  dnce  dB  live  val  \\\n",
       "0              Train       neo mellow  2010   97    89    67  -4     8   80   \n",
       "1             Eminem  detroit hip hop  2010   87    93    75  -5    52   64   \n",
       "2              Kesha        dance pop  2010  120    84    76  -3    29   71   \n",
       "3          Lady Gaga        dance pop  2010  119    92    70  -4     8   71   \n",
       "4         Bruno Mars              pop  2010  109    84    64  -5     9   43   \n",
       "..               ...              ...   ...  ...   ...   ...  ..   ...  ...   \n",
       "26       Mark Ronson        dance pop  2019  104    66    61  -7    20   16   \n",
       "27        Ed Sheeran              pop  2019   95    79    75  -6     7   61   \n",
       "28         DJ Khaled        dance pop  2019  136    76    53  -5     9   65   \n",
       "29       Mark Ronson        dance pop  2019  114    79    60  -6    42   24   \n",
       "30  The Chainsmokers       electropop  2019  150    44    70  -9    13   23   \n",
       "\n",
       "    dur  acous  spch  pop  \n",
       "0   217     19     4   83  \n",
       "1   263     24    23   82  \n",
       "2   200     10    14   80  \n",
       "3   295      0     4   79  \n",
       "4   221      2     4   78  \n",
       "..  ...    ...   ...  ...  \n",
       "26  176      1     3   75  \n",
       "27  206     21    12   75  \n",
       "28  260      7    34   70  \n",
       "29  217      1     7   69  \n",
       "30  213      6     6   67  \n",
       "\n",
       "[603 rows x 15 columns]"
      ]
     },
     "execution_count": 21,
     "metadata": {},
     "output_type": "execute_result"
    }
   ],
   "source": [
    "all_top_songs.rename({'Unnamed: ':'ID'},inplace=True)\n",
    "all_top_songs"
   ]
  },
  {
   "cell_type": "markdown",
   "id": "327f03e3-745c-4136-8adc-5a5d9845760e",
   "metadata": {},
   "source": [
    "## Questions"
   ]
  },
  {
   "cell_type": "markdown",
   "id": "376b2cc8-f040-4265-aeff-0bf63b5c3643",
   "metadata": {},
   "source": [
    "1. What is the most popular song in the dataset?   \n",
    "   "
   ]
  },
  {
   "cell_type": "code",
   "execution_count": 22,
   "id": "5415824b-be76-4d78-9822-8e29cda01ace",
   "metadata": {},
   "outputs": [
    {
     "name": "stdout",
     "output_type": "stream",
     "text": [
      "the most popular song in the database is Memories  by Maroon 5 with a popularity value of 99 \n"
     ]
    },
    {
     "data": {
      "image/png": "[encoded data removed]",
      "text/plain": [
       "<Figure size 640x480 with 1 Axes>"
      ]
     },
     "metadata": {},
     "output_type": "display_data"
    }
   ],
   "source": [
    "# select the  title and pop  columns\n",
    "\n",
    "popularity=all_top_songs[['title','pop', 'artist']]\n",
    "#find the maximum value for the  pop column\n",
    "max_pop=all_top_songs['pop'].max()\n",
    "\n",
    "top_song=popularity.loc[(popularity['pop']==max_pop)]\n",
    "for element in top_song.iterrows():\n",
    "    title=element[1]['title']\n",
    "    popular= element[1]['pop']\n",
    "    artist=element[1]['artist']\n",
    "\n",
    "\n",
    "\n",
    "sorted_popularity=popularity.sort_values('pop', ascending=False)\n",
    "top_five_songs= sorted_popularity.head(5)\n",
    "print(f\"the most popular song in the database is {title}  by {artist} with a popularity value of {popular} \")\n",
    "top_five_songs\n",
    "\n",
    "plt.title('Top Five  most popular songs')\n",
    "plt.bar(top_five_songs['title'],top_five_songs['pop'] )\n",
    "plt.xlabel('Song title')\n",
    "plt.ylabel('Popularity')\n",
    "plt.tight_layout()\n",
    "plt.show()\n",
    "\n"
   ]
  },
  {
   "cell_type": "markdown",
   "id": "f2aa1c34-0d38-4032-bc37-676f1bec124c",
   "metadata": {},
   "source": [
    "2. What artist has the most songs in the dataset?"
   ]
  },
  {
   "cell_type": "code",
   "execution_count": 23,
   "id": "2335c48f-b422-4495-86b3-f2582703d182",
   "metadata": {},
   "outputs": [
    {
     "name": "stdout",
     "output_type": "stream",
     "text": [
      "The artist who has the most songs in the dataset is Katy Perry with 17 songs in the dataset\n"
     ]
    }
   ],
   "source": [
    "\n",
    "#select the artist and title columns from the database\n",
    "artist_and_song=all_top_songs[['artist','title']]\n",
    "\n",
    "#let's group them by artists\n",
    "grouped_artists=artist_and_song.groupby('artist')\n",
    "#let's count\n",
    "count_all_artists=grouped_artists.count()\n",
    "sorted_artists=count_all_artists.sort_values('title', ascending=False)\n",
    "max_artists=sorted_artists.max()\n",
    "top_artist=sorted_artists.loc[sorted_artists.title==max_artists.title]\n",
    "for element in top_artist.iterrows():\n",
    "    top_name=element[0]\n",
    "    top_total=element[1]['title']\n",
    "\n",
    "sorted_artists\n",
    "\n",
    "print(f'The artist who has the most songs in the dataset is {top_name} with {top_total} songs in the dataset')\n",
    "#top_artist"
   ]
  },
  {
   "cell_type": "markdown",
   "id": "d26b16de-7775-4b9e-9d04-ec5a852fb29b",
   "metadata": {},
   "source": [
    "3. What is the most popular genre of music in the dataset?"
   ]
  },
  {
   "cell_type": "code",
   "execution_count": 70,
   "id": "0a3b44b1-9536-40eb-a9d8-e61898ccaa29",
   "metadata": {},
   "outputs": [
    {
     "name": "stdout",
     "output_type": "stream",
     "text": [
      "the top genre is popwith 99\n"
     ]
    }
   ],
   "source": [
    "all_genres=all_top_songs[['top genre', 'pop']]\n",
    "max_pop=all_genres['pop'].max()\n",
    "top_genre= all_genres.loc[(all_genres['pop']==max_pop)]\n",
    "\n",
    "\n",
    "print(f\"the top genre is {top_genre['top genre'][0]} with a popularity of {top_genre['pop'][0]}\")\n",
    "\n",
    "\n",
    "\n",
    "    \n",
    "\n",
    "\n",
    "\n",
    "\n"
   ]
  },
  {
   "cell_type": "markdown",
   "id": "43521e52-5936-43a4-9cbe-b2bf05803e74",
   "metadata": {},
   "source": [
    "4. Are there any songs in the dataset more than once?\n",
    "   "
   ]
  },
  {
   "cell_type": "code",
   "execution_count": 25,
   "id": "79b326f9-a1f7-407e-95be-1f796479db77",
   "metadata": {},
   "outputs": [
    {
     "name": "stdout",
     "output_type": "stream",
     "text": [
      "Yes, there are songs in the dataset mroe than once. which are the following:\n",
      "\n",
      "Just the Way You Are\n",
      "\n",
      "Marry You\n",
      "\n",
      "Written in the Stars (feat. Eric Turner)\n",
      "\n",
      "Castle Walls (feat. Christina Aguilera)\n",
      "\n",
      "We Are Never Ever Getting Back Together\n",
      "\n",
      "A Little Party Never Killed Nobody (All We Got)\n",
      "\n",
      "Sugar\n",
      "\n",
      "The Hills\n",
      "\n",
      "Love Yourself\n",
      "\n",
      "Stitches\n",
      "\n",
      "Company\n",
      "\n",
      "Runnin' (Lose It All)\n",
      "\n",
      "Here\n",
      "\n",
      "All I Ask\n",
      "\n",
      "First Time\n",
      "\n",
      "Kissing Strangers\n"
     ]
    }
   ],
   "source": [
    "dupes=all_top_songs[all_top_songs.duplicated(('title', 'artist'))]\n",
    "titles=dupes['title']\n",
    "print('Yes, there are songs in the dataset mroe than once. which are the following:')\n",
    "for element in titles:\n",
    "    print()\n",
    "    \n",
    "    print(element)\n",
    "\n",
    "\n"
   ]
  },
  {
   "cell_type": "markdown",
   "id": "a7979095-1e41-418a-9ec4-b502b9544120",
   "metadata": {},
   "source": [
    "5. Is there a relationship between popularity and danceability?"
   ]
  },
  {
   "cell_type": "code",
   "execution_count": 26,
   "id": "17c93c8b-dc17-46e9-a22e-f8fef08d7070",
   "metadata": {},
   "outputs": [
    {
     "data": {
      "image/png": "[encoded data removed]",
      "text/plain": [
       "<Figure size 640x480 with 1 Axes>"
      ]
     },
     "metadata": {},
     "output_type": "display_data"
    },
    {
     "name": "stdout",
     "output_type": "stream",
     "text": [
      "the pearson correlationship coefficient is 0.1160544446144213, indicating a weak relationship\n"
     ]
    }
   ],
   "source": [
    "popu_and_dance=all_top_songs[['pop', 'dnce']]\n",
    "\n",
    "popu=all_top_songs['pop']\n",
    "dance=all_top_songs['dnce']\n",
    "\n",
    "corr = popu_and_dance.corr(method = 'pearson')\n",
    "\n",
    "\n",
    "plt.scatter(popu, dance)\n",
    "plt.title('Relation between popularity and danceability')\n",
    "plt.xlabel('Popularity')\n",
    "plt.ylabel('Danceability')\n",
    "\n",
    "\n",
    "plt.show()\n",
    "\n",
    "print(f'the pearson correlationship coefficient is {corr['pop'].iloc[1]}, indicating a weak relationship')\n",
    "    \n"
   ]
  },
  {
   "cell_type": "markdown",
   "id": "8c72f35f-0d43-4b19-8002-d2e3e9dab645",
   "metadata": {},
   "source": [
    "6. Does having a higher bpm lead to having a higher energy score?"
   ]
  },
  {
   "cell_type": "code",
   "execution_count": null,
   "id": "6fc209ae-c037-46f8-baa6-cffee712c1ba",
   "metadata": {},
   "outputs": [],
   "source": []
  },
  {
   "cell_type": "markdown",
   "id": "93ea7cb8-ce58-46d6-83ef-042fd5344878",
   "metadata": {},
   "source": [
    "7. Which genre has the highest energy score?"
   ]
  },
  {
   "cell_type": "code",
   "execution_count": null,
   "id": "2b7e1c93-0753-424c-9017-4f8c30cba8a5",
   "metadata": {
    "collapsed": true,
    "jupyter": {
     "outputs_hidden": true,
     "source_hidden": true
    }
   },
   "outputs": [],
   "source": [
    "\n",
    "\n"
   ]
  },
  {
   "cell_type": "code",
   "execution_count": null,
   "id": "cb6317c5-ccd7-4900-bd06-46dadc7045b5",
   "metadata": {
    "collapsed": true,
    "jupyter": {
     "outputs_hidden": true,
     "source_hidden": true
    }
   },
   "outputs": [],
   "source": []
  },
  {
   "cell_type": "code",
   "execution_count": null,
   "id": "9ce3a11f-6a87-4722-b146-a44b56af3308",
   "metadata": {},
   "outputs": [],
   "source": []
  }
 ],
 "metadata": {
  "kernelspec": {
   "display_name": "Python 3 (ipykernel)",
   "language": "python",
   "name": "python3"
  },
  "language_info": {
   "codemirror_mode": {
    "name": "ipython",
    "version": 3
   },
   "file_extension": ".py",
   "mimetype": "text/x-python",
   "name": "python",
   "nbconvert_exporter": "python",
   "pygments_lexer": "ipython3",
   "version": "3.12.7"
  }
 },
 "nbformat": 4,
 "nbformat_minor": 5
}
