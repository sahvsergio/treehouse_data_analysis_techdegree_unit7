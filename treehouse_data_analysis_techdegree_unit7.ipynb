{
 "cells": [
  {
   "cell_type": "code",
   "execution_count": 33,
   "id": "3c05bfe5-01d5-45d6-9030-bf23db2098c0",
   "metadata": {},
   "outputs": [],
   "source": [
    "import os\n",
    "import pandas as pd\n",
    "import matplotlib.pyplot as plt\n",
    "import seaborn as sns"
   ]
  },
  {
   "cell_type": "markdown",
   "id": "04d76194-be97-4d8c-abaa-7fa2a912d634",
   "metadata": {},
   "source": [
    "## Understanding what the columns mean\n",
    "Column names:\n",
    "\n",
    "    ID = unique id number\n",
    "    title = song’s title\n",
    "    artist = song’s artist\n",
    "    top genre = the genre of the track\n",
    "    year = song’s year in the billboard\n",
    "    bpm = beats per minute (tempo)\n",
    "    nrgy = energy, the higher the value the more energetic the song\n",
    "    dnce = danceability, the higher the value the easier it is to dance to\n",
    "    db = loudness, the higher the value the louder the song\n",
    "    live = the higher the value the more likely the song is a live recording\n",
    "    val = valence, the higher the value the more positive the mood\n",
    "    dur = duration of the song\n",
    "    acous = acousticness, the higher the value the more acoustic the song is\n",
    "    spch = speechiness, the higher the value the more spoken word the song contains\n",
    "    pop = popularity, the higher the value the more popular the song is\n"
   ]
  },
  {
   "cell_type": "code",
   "execution_count": 34,
   "id": "3d0304f7-4d4e-4992-bd59-4aac145cfdc2",
   "metadata": {},
   "outputs": [],
   "source": [
    "df_2010= pd.read_csv('2010.csv')\n",
    "df_2011=pd.read_csv('2011.csv')\n",
    "df_2012=pd.read_csv('2012.csv')\n",
    "df_2013= pd.read_csv('2013.csv')\n",
    "df_2014= pd.read_csv('2014.csv')\n",
    "df_2015=pd.read_csv('2015.csv')\n",
    "df_2016= pd.read_csv('2016.csv')\n",
    "df_2017= pd.read_csv('2017.csv')\n",
    "df_2018= pd.read_csv('2018.csv')\n",
    "df_2019= pd.read_csv('2019.csv')\n"
   ]
  },
  {
   "cell_type": "code",
   "execution_count": 35,
   "id": "602da713-2e04-4963-8e0a-67b5b3650441",
   "metadata": {},
   "outputs": [
    {
     "data": {
      "text/plain": [
       "(51, 15)"
      ]
     },
     "execution_count": 35,
     "metadata": {},
     "output_type": "execute_result"
    }
   ],
   "source": [
    "df_2010.shape\n",
    "\n"
   ]
  },
  {
   "cell_type": "code",
   "execution_count": 36,
   "id": "3f037219-b2f0-420c-b13f-68ca920bc3b5",
   "metadata": {},
   "outputs": [
    {
     "data": {
      "text/plain": [
       "(53, 15)"
      ]
     },
     "execution_count": 36,
     "metadata": {},
     "output_type": "execute_result"
    }
   ],
   "source": [
    "df_2011.shape"
   ]
  },
  {
   "cell_type": "code",
   "execution_count": 37,
   "id": "a531d2fa-fd13-42a9-acec-1d2647e3f256",
   "metadata": {},
   "outputs": [
    {
     "data": {
      "text/plain": [
       "(35, 15)"
      ]
     },
     "execution_count": 37,
     "metadata": {},
     "output_type": "execute_result"
    }
   ],
   "source": [
    "df_2012.shape"
   ]
  },
  {
   "cell_type": "code",
   "execution_count": 38,
   "id": "70aebe89-0491-4456-ba0a-d664428089b5",
   "metadata": {},
   "outputs": [
    {
     "data": {
      "text/plain": [
       "(71, 15)"
      ]
     },
     "execution_count": 38,
     "metadata": {},
     "output_type": "execute_result"
    }
   ],
   "source": [
    "df_2013.shape"
   ]
  },
  {
   "cell_type": "code",
   "execution_count": 39,
   "id": "cdb7909b-f5cf-4275-bc34-c34f560495da",
   "metadata": {},
   "outputs": [
    {
     "data": {
      "text/plain": [
       "(58, 15)"
      ]
     },
     "execution_count": 39,
     "metadata": {},
     "output_type": "execute_result"
    }
   ],
   "source": [
    "df_2014.shape"
   ]
  },
  {
   "cell_type": "code",
   "execution_count": 40,
   "id": "fe0472b0-0275-4f54-878c-a7b3eba12d9f",
   "metadata": {},
   "outputs": [
    {
     "data": {
      "text/plain": [
       "(95, 15)"
      ]
     },
     "execution_count": 40,
     "metadata": {},
     "output_type": "execute_result"
    }
   ],
   "source": [
    "df_2015.shape"
   ]
  },
  {
   "cell_type": "code",
   "execution_count": 41,
   "id": "2468d7ba-185c-43f8-8bc8-90e017f9a0f5",
   "metadata": {},
   "outputs": [
    {
     "data": {
      "text/plain": [
       "(80, 15)"
      ]
     },
     "execution_count": 41,
     "metadata": {},
     "output_type": "execute_result"
    }
   ],
   "source": [
    "df_2016.shape"
   ]
  },
  {
   "cell_type": "code",
   "execution_count": 42,
   "id": "7eba5919-633c-45e6-8dfb-f40adcbf0095",
   "metadata": {},
   "outputs": [
    {
     "data": {
      "text/plain": [
       "(65, 15)"
      ]
     },
     "execution_count": 42,
     "metadata": {},
     "output_type": "execute_result"
    }
   ],
   "source": [
    "df_2017.shape"
   ]
  },
  {
   "cell_type": "code",
   "execution_count": 43,
   "id": "63fa279b-24fe-43a5-9950-4f317076b9f1",
   "metadata": {},
   "outputs": [
    {
     "data": {
      "text/plain": [
       "(64, 15)"
      ]
     },
     "execution_count": 43,
     "metadata": {},
     "output_type": "execute_result"
    }
   ],
   "source": [
    "df_2018.shape"
   ]
  },
  {
   "cell_type": "code",
   "execution_count": 44,
   "id": "c3f8e970-f37a-452c-b483-349362039088",
   "metadata": {},
   "outputs": [
    {
     "data": {
      "text/plain": [
       "(31, 15)"
      ]
     },
     "execution_count": 44,
     "metadata": {},
     "output_type": "execute_result"
    }
   ],
   "source": [
    "df_2019.shape"
   ]
  },
  {
   "cell_type": "code",
   "execution_count": 47,
   "id": "5fc144e3-5eee-4f04-9577-77e77fb24e76",
   "metadata": {},
   "outputs": [],
   "source": [
    "# combine all datasets\n",
    "concat_dfs=pd.concat([df_2010, df_2011, df_2012, df_2013,df_2014, df_2015, df_2016, df_2017, df_2018, df_2019])"
   ]
  },
  {
   "cell_type": "code",
   "execution_count": 48,
   "id": "e7600bf1-9f42-4058-b8c5-a01bd03a31da",
   "metadata": {},
   "outputs": [
    {
     "data": {
      "text/plain": [
       "(603, 15)"
      ]
     },
     "execution_count": 48,
     "metadata": {},
     "output_type": "execute_result"
    }
   ],
   "source": [
    "concat_dfs.shape\n"
   ]
  },
  {
   "cell_type": "code",
   "execution_count": 49,
   "id": "0f1bfcdf-c11c-4f01-a7d5-a4d407ebdaa2",
   "metadata": {},
   "outputs": [
    {
     "data": {
      "text/plain": [
       "'\\n    id\\n    year\\n    bpm\\n    nrgy\\n    dnce\\n    db\\n    live\\n    val\\n    dur\\n    acous\\n    spch\\n    pop\\n\\n'"
      ]
     },
     "execution_count": 49,
     "metadata": {},
     "output_type": "execute_result"
    }
   ],
   "source": [
    "# cleaning the datasets\n",
    " ## Clean the dataset to make sure the following columns are either integer or floats and not objects:\n",
    "\"\"\"\n",
    "    id\n",
    "    year\n",
    "    bpm\n",
    "    nrgy\n",
    "    dnce\n",
    "    db\n",
    "    live\n",
    "    val\n",
    "    dur\n",
    "    acous\n",
    "    spch\n",
    "    pop\n",
    "\n",
    "\"\"\""
   ]
  },
  {
   "cell_type": "code",
   "execution_count": 52,
   "id": "2c8d2f42-4a17-4a12-a497-937de791947b",
   "metadata": {},
   "outputs": [
    {
     "data": {
      "text/plain": [
       "Unnamed: 0     int64\n",
       "title         object\n",
       "artist        object\n",
       "top genre     object\n",
       "year           int64\n",
       "bpm            int64\n",
       "nrgy           int64\n",
       "dnce           int64\n",
       "dB             int64\n",
       "live           int64\n",
       "val            int64\n",
       "dur            int64\n",
       "acous          int64\n",
       "spch           int64\n",
       "pop            int64\n",
       "dtype: object"
      ]
     },
     "execution_count": 52,
     "metadata": {},
     "output_type": "execute_result"
    }
   ],
   "source": [
    "#checking current data types\n",
    "all_top_songs.dtypes"
   ]
  },
  {
   "cell_type": "code",
   "execution_count": 55,
   "id": "961bcd38-718c-47fd-9d6c-6b972e26137b",
   "metadata": {},
   "outputs": [
    {
     "data": {
      "text/html": [
       "<div>\n",
       "<style scoped>\n",
       "    .dataframe tbody tr th:only-of-type {\n",
       "        vertical-align: middle;\n",
       "    }\n",
       "\n",
       "    .dataframe tbody tr th {\n",
       "        vertical-align: top;\n",
       "    }\n",
       "\n",
       "    .dataframe thead th {\n",
       "        text-align: right;\n",
       "    }\n",
       "</style>\n",
       "<table border=\"1\" class=\"dataframe\">\n",
       "  <thead>\n",
       "    <tr style=\"text-align: right;\">\n",
       "      <th></th>\n",
       "      <th>Unnamed: 0</th>\n",
       "      <th>title</th>\n",
       "      <th>artist</th>\n",
       "      <th>top genre</th>\n",
       "      <th>year</th>\n",
       "      <th>bpm</th>\n",
       "      <th>nrgy</th>\n",
       "      <th>dnce</th>\n",
       "      <th>dB</th>\n",
       "      <th>live</th>\n",
       "      <th>val</th>\n",
       "      <th>dur</th>\n",
       "      <th>acous</th>\n",
       "      <th>spch</th>\n",
       "      <th>pop</th>\n",
       "    </tr>\n",
       "  </thead>\n",
       "  <tbody>\n",
       "    <tr>\n",
       "      <th>0</th>\n",
       "      <td>1</td>\n",
       "      <td>Hey, Soul Sister</td>\n",
       "      <td>Train</td>\n",
       "      <td>neo mellow</td>\n",
       "      <td>2010</td>\n",
       "      <td>97</td>\n",
       "      <td>89</td>\n",
       "      <td>67</td>\n",
       "      <td>-4</td>\n",
       "      <td>8</td>\n",
       "      <td>80</td>\n",
       "      <td>217</td>\n",
       "      <td>19</td>\n",
       "      <td>4</td>\n",
       "      <td>83</td>\n",
       "    </tr>\n",
       "    <tr>\n",
       "      <th>1</th>\n",
       "      <td>2</td>\n",
       "      <td>Love The Way You Lie</td>\n",
       "      <td>Eminem</td>\n",
       "      <td>detroit hip hop</td>\n",
       "      <td>2010</td>\n",
       "      <td>87</td>\n",
       "      <td>93</td>\n",
       "      <td>75</td>\n",
       "      <td>-5</td>\n",
       "      <td>52</td>\n",
       "      <td>64</td>\n",
       "      <td>263</td>\n",
       "      <td>24</td>\n",
       "      <td>23</td>\n",
       "      <td>82</td>\n",
       "    </tr>\n",
       "    <tr>\n",
       "      <th>2</th>\n",
       "      <td>3</td>\n",
       "      <td>TiK ToK</td>\n",
       "      <td>Kesha</td>\n",
       "      <td>dance pop</td>\n",
       "      <td>2010</td>\n",
       "      <td>120</td>\n",
       "      <td>84</td>\n",
       "      <td>76</td>\n",
       "      <td>-3</td>\n",
       "      <td>29</td>\n",
       "      <td>71</td>\n",
       "      <td>200</td>\n",
       "      <td>10</td>\n",
       "      <td>14</td>\n",
       "      <td>80</td>\n",
       "    </tr>\n",
       "    <tr>\n",
       "      <th>3</th>\n",
       "      <td>4</td>\n",
       "      <td>Bad Romance</td>\n",
       "      <td>Lady Gaga</td>\n",
       "      <td>dance pop</td>\n",
       "      <td>2010</td>\n",
       "      <td>119</td>\n",
       "      <td>92</td>\n",
       "      <td>70</td>\n",
       "      <td>-4</td>\n",
       "      <td>8</td>\n",
       "      <td>71</td>\n",
       "      <td>295</td>\n",
       "      <td>0</td>\n",
       "      <td>4</td>\n",
       "      <td>79</td>\n",
       "    </tr>\n",
       "    <tr>\n",
       "      <th>4</th>\n",
       "      <td>5</td>\n",
       "      <td>Just the Way You Are</td>\n",
       "      <td>Bruno Mars</td>\n",
       "      <td>pop</td>\n",
       "      <td>2010</td>\n",
       "      <td>109</td>\n",
       "      <td>84</td>\n",
       "      <td>64</td>\n",
       "      <td>-5</td>\n",
       "      <td>9</td>\n",
       "      <td>43</td>\n",
       "      <td>221</td>\n",
       "      <td>2</td>\n",
       "      <td>4</td>\n",
       "      <td>78</td>\n",
       "    </tr>\n",
       "    <tr>\n",
       "      <th>5</th>\n",
       "      <td>6</td>\n",
       "      <td>Baby</td>\n",
       "      <td>Justin Bieber</td>\n",
       "      <td>canadian pop</td>\n",
       "      <td>2010</td>\n",
       "      <td>65</td>\n",
       "      <td>86</td>\n",
       "      <td>73</td>\n",
       "      <td>-5</td>\n",
       "      <td>11</td>\n",
       "      <td>54</td>\n",
       "      <td>214</td>\n",
       "      <td>4</td>\n",
       "      <td>14</td>\n",
       "      <td>77</td>\n",
       "    </tr>\n",
       "    <tr>\n",
       "      <th>6</th>\n",
       "      <td>7</td>\n",
       "      <td>Dynamite</td>\n",
       "      <td>Taio Cruz</td>\n",
       "      <td>dance pop</td>\n",
       "      <td>2010</td>\n",
       "      <td>120</td>\n",
       "      <td>78</td>\n",
       "      <td>75</td>\n",
       "      <td>-4</td>\n",
       "      <td>4</td>\n",
       "      <td>82</td>\n",
       "      <td>203</td>\n",
       "      <td>0</td>\n",
       "      <td>9</td>\n",
       "      <td>77</td>\n",
       "    </tr>\n",
       "    <tr>\n",
       "      <th>7</th>\n",
       "      <td>8</td>\n",
       "      <td>Secrets</td>\n",
       "      <td>OneRepublic</td>\n",
       "      <td>dance pop</td>\n",
       "      <td>2010</td>\n",
       "      <td>148</td>\n",
       "      <td>76</td>\n",
       "      <td>52</td>\n",
       "      <td>-6</td>\n",
       "      <td>12</td>\n",
       "      <td>38</td>\n",
       "      <td>225</td>\n",
       "      <td>7</td>\n",
       "      <td>4</td>\n",
       "      <td>77</td>\n",
       "    </tr>\n",
       "    <tr>\n",
       "      <th>8</th>\n",
       "      <td>9</td>\n",
       "      <td>Empire State of Mind (Part II) Broken Down</td>\n",
       "      <td>Alicia Keys</td>\n",
       "      <td>hip pop</td>\n",
       "      <td>2010</td>\n",
       "      <td>93</td>\n",
       "      <td>37</td>\n",
       "      <td>48</td>\n",
       "      <td>-8</td>\n",
       "      <td>12</td>\n",
       "      <td>14</td>\n",
       "      <td>216</td>\n",
       "      <td>74</td>\n",
       "      <td>3</td>\n",
       "      <td>76</td>\n",
       "    </tr>\n",
       "    <tr>\n",
       "      <th>9</th>\n",
       "      <td>10</td>\n",
       "      <td>Only Girl (In The World)</td>\n",
       "      <td>Rihanna</td>\n",
       "      <td>barbadian pop</td>\n",
       "      <td>2010</td>\n",
       "      <td>126</td>\n",
       "      <td>72</td>\n",
       "      <td>79</td>\n",
       "      <td>-4</td>\n",
       "      <td>7</td>\n",
       "      <td>61</td>\n",
       "      <td>235</td>\n",
       "      <td>13</td>\n",
       "      <td>4</td>\n",
       "      <td>73</td>\n",
       "    </tr>\n",
       "  </tbody>\n",
       "</table>\n",
       "</div>"
      ],
      "text/plain": [
       "   Unnamed: 0                                       title         artist  \\\n",
       "0           1                            Hey, Soul Sister          Train   \n",
       "1           2                        Love The Way You Lie         Eminem   \n",
       "2           3                                     TiK ToK          Kesha   \n",
       "3           4                                 Bad Romance      Lady Gaga   \n",
       "4           5                        Just the Way You Are     Bruno Mars   \n",
       "5           6                                        Baby  Justin Bieber   \n",
       "6           7                                    Dynamite      Taio Cruz   \n",
       "7           8                                     Secrets    OneRepublic   \n",
       "8           9  Empire State of Mind (Part II) Broken Down    Alicia Keys   \n",
       "9          10                    Only Girl (In The World)        Rihanna   \n",
       "\n",
       "         top genre  year  bpm  nrgy  dnce  dB  live  val  dur  acous  spch  \\\n",
       "0       neo mellow  2010   97    89    67  -4     8   80  217     19     4   \n",
       "1  detroit hip hop  2010   87    93    75  -5    52   64  263     24    23   \n",
       "2        dance pop  2010  120    84    76  -3    29   71  200     10    14   \n",
       "3        dance pop  2010  119    92    70  -4     8   71  295      0     4   \n",
       "4              pop  2010  109    84    64  -5     9   43  221      2     4   \n",
       "5     canadian pop  2010   65    86    73  -5    11   54  214      4    14   \n",
       "6        dance pop  2010  120    78    75  -4     4   82  203      0     9   \n",
       "7        dance pop  2010  148    76    52  -6    12   38  225      7     4   \n",
       "8          hip pop  2010   93    37    48  -8    12   14  216     74     3   \n",
       "9    barbadian pop  2010  126    72    79  -4     7   61  235     13     4   \n",
       "\n",
       "   pop  \n",
       "0   83  \n",
       "1   82  \n",
       "2   80  \n",
       "3   79  \n",
       "4   78  \n",
       "5   77  \n",
       "6   77  \n",
       "7   77  \n",
       "8   76  \n",
       "9   73  "
      ]
     },
     "execution_count": 55,
     "metadata": {},
     "output_type": "execute_result"
    }
   ],
   "source": [
    "all_top_songs.head(10)\n",
    "year\n",
    "bpm\n",
    "nrgy\n",
    "dnce\n",
    "db\n",
    "live\n",
    "val\n",
    "dur\n",
    "acous\n",
    "spch\n",
    "pop\n",
    "\n"
   ]
  },
  {
   "cell_type": "markdown",
   "id": "327f03e3-745c-4136-8adc-5a5d9845760e",
   "metadata": {},
   "source": [
    "Questions"
   ]
  },
  {
   "cell_type": "markdown",
   "id": "376b2cc8-f040-4265-aeff-0bf63b5c3643",
   "metadata": {},
   "source": [
    "1. What is the most popular song in the dataset?"
   ]
  },
  {
   "cell_type": "markdown",
   "id": "f2aa1c34-0d38-4032-bc37-676f1bec124c",
   "metadata": {},
   "source": [
    "2. What artist has the most songs in the dataset?"
   ]
  },
  {
   "cell_type": "markdown",
   "id": "d26b16de-7775-4b9e-9d04-ec5a852fb29b",
   "metadata": {},
   "source": [
    "3. What is the most popular genre of music in the dataset?"
   ]
  },
  {
   "cell_type": "markdown",
   "id": "43521e52-5936-43a4-9cbe-b2bf05803e74",
   "metadata": {},
   "source": [
    "4. Are there any songs in the dataset more than once?"
   ]
  },
  {
   "cell_type": "markdown",
   "id": "a7979095-1e41-418a-9ec4-b502b9544120",
   "metadata": {},
   "source": [
    "5. Is there a relationship between popularity and danceability?"
   ]
  },
  {
   "cell_type": "markdown",
   "id": "8c72f35f-0d43-4b19-8002-d2e3e9dab645",
   "metadata": {},
   "source": [
    "6. Does having a higher bpm lead to having a higher energy score?"
   ]
  },
  {
   "cell_type": "markdown",
   "id": "93ea7cb8-ce58-46d6-83ef-042fd5344878",
   "metadata": {},
   "source": [
    "7. Which genre has the highest energy score?"
   ]
  },
  {
   "cell_type": "code",
   "execution_count": null,
   "id": "2b7e1c93-0753-424c-9017-4f8c30cba8a5",
   "metadata": {},
   "outputs": [],
   "source": []
  }
 ],
 "metadata": {
  "kernelspec": {
   "display_name": "Python 3 (ipykernel)",
   "language": "python",
   "name": "python3"
  },
  "language_info": {
   "codemirror_mode": {
    "name": "ipython",
    "version": 3
   },
   "file_extension": ".py",
   "mimetype": "text/x-python",
   "name": "python",
   "nbconvert_exporter": "python",
   "pygments_lexer": "ipython3",
   "version": "3.12.7"
  }
 },
 "nbformat": 4,
 "nbformat_minor": 5
}
